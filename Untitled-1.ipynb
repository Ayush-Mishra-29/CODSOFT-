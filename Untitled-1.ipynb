{
 "cells": [
  {
   "cell_type": "code",
   "execution_count": null,
   "id": "efda5423",
   "metadata": {},
   "outputs": [],
   "source": [
    "tasks = []\n",
    "\n",
    "while True:\n",
    "    print(\"\\n--- TO-DO LIST MENU ---\")\n",
    "    print(\"1. Show tasks\")\n",
    "    print(\"2. Add task\")\n",
    "    print(\"3. Remove task\")\n",
    "    print(\"4. Exit\")\n",
    "\n",
    "    choice = input(\"Enter your choice (1-4): \")\n",
    "\n",
    "    if choice == \"1\":\n",
    "        print(\"\\nYour Tasks:\")\n",
    "        if not tasks:\n",
    "            print(\"No tasks found.\")\n",
    "        else:\n",
    "            for i in range(len(tasks)):\n",
    "                print(f\"{i + 1}. {tasks[i]}\")\n",
    "\n",
    "    elif choice == \"2\":\n",
    "        task = input(\"Enter the task to add: \")\n",
    "        tasks.append(task)\n",
    "        print(\"Task added!\")\n",
    "\n",
    "    elif choice == \"3\":\n",
    "        if not tasks:\n",
    "            print(\"No tasks to remove.\")\n",
    "        else:\n",
    "            for i in range(len(tasks)):\n",
    "                print(f\"{i + 1}. {tasks[i]}\")\n",
    "            try:\n",
    "                task_num = int(input(\"Enter the task number to remove: \"))\n",
    "                removed = tasks.pop(task_num - 1)\n",
    "                print(f\"Removed task: {removed}\")\n",
    "            except:\n",
    "                print(\"Invalid number!\")\n",
    "\n",
    "    elif choice == \"4\":\n",
    "        print(\"Thank you for using the To-Do List. Goodbye!\")\n",
    "        break\n",
    "\n",
    "    else:\n",
    "        print(\"Invalid choice! Please choose 1, 2, 3, or 4.\")"
   ]
  }
 ],
 "metadata": {
  "kernelspec": {
   "display_name": "Python 3",
   "language": "python",
   "name": "python3"
  },
  "language_info": {
   "codemirror_mode": {
    "name": "ipython",
    "version": 3
   },
   "file_extension": ".py",
   "mimetype": "text/x-python",
   "name": "python",
   "nbconvert_exporter": "python",
   "pygments_lexer": "ipython3",
   "version": "3.13.5"
  }
 },
 "nbformat": 4,
 "nbformat_minor": 5
}
