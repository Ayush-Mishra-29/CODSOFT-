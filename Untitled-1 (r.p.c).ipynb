{
 "cells": [
  {
   "cell_type": "code",
   "execution_count": null,
   "id": "19b58620",
   "metadata": {},
   "outputs": [],
   "source": [
    "import random\n",
    "\n",
    "print(\"🎮 Welcome to Rock-Paper-Scissors Game!\")\n",
    "\n",
    "user_score = 0\n",
    "computer_score = 0\n",
    "\n",
    "choices = ['rock', 'paper', 'scissors']\n",
    "\n",
    "while True:\n",
    "    print(\"\\nChoose: rock, paper, or scissors\")\n",
    "    user_choice = input(\"Your choice: \").lower()\n",
    "\n",
    "    if user_choice not in choices:\n",
    "        print(\"❌ Invalid choice! Please choose rock, paper, or scissors.\")\n",
    "        continue\n",
    "\n",
    "    computer_choice = random.choice(choices)\n",
    "\n",
    "    print(f\"\\n🧍 You chose: {user_choice}\")\n",
    "    print(f\"💻 Computer chose: {computer_choice}\")\n",
    "\n",
    "    if user_choice == computer_choice:\n",
    "        print(\"🤝 It's a tie!\")\n",
    "    elif (\n",
    "        (user_choice == 'rock' and computer_choice == 'scissors') or\n",
    "        (user_choice == 'scissors' and computer_choice == 'paper') or\n",
    "        (user_choice == 'paper' and computer_choice == 'rock')\n",
    "    ):\n",
    "        print(\"✅ You win this round!\")\n",
    "        user_score += 1\n",
    "    else:\n",
    "        print(\"❌ You lose this round.\")\n",
    "        computer_score += 1\n",
    "\n",
    "    print(f\"\\n Score => You: {user_score} | Computer: {computer_score}\")\n",
    "\n",
    "    play_again = input(\"\\nDo you want to play again? (yes/no): \").lower()\n",
    "    if play_again != 'yes':\n",
    "        print(\"\\n🎉 Final Score:\")\n",
    "        print(f\"You: {user_score} | Computer: {computer_score}\")\n",
    "        print(\"👋 Thanks for playing! Goodbye!\")\n",
    "        break"
   ]
  },
  {
   "cell_type": "code",
   "execution_count": null,
   "id": "a052fcf5",
   "metadata": {},
   "outputs": [],
   "source": []
  }
 ],
 "metadata": {
  "kernelspec": {
   "display_name": "Python 3",
   "language": "python",
   "name": "python3"
  },
  "language_info": {
   "codemirror_mode": {
    "name": "ipython",
    "version": 3
   },
   "file_extension": ".py",
   "mimetype": "text/x-python",
   "name": "python",
   "nbconvert_exporter": "python",
   "pygments_lexer": "ipython3",
   "version": "3.13.5"
  }
 },
 "nbformat": 4,
 "nbformat_minor": 5
}
