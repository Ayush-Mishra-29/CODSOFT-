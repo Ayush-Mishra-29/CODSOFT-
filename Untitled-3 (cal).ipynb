{
 "cells": [
  {
   "cell_type": "code",
   "execution_count": null,
   "id": "ddfc94e5",
   "metadata": {},
   "outputs": [],
   "source": [
    "print(\"Welcome to Simple Calculator\")\n",
    "\n",
    "num1 = float(input(\"Enter first number: \"))\n",
    "num2 = float(input(\"Enter second number: \"))\n",
    "\n",
    "print(\"Choose an operation:\")\n",
    "print(\"1. Addition (+)\")\n",
    "print(\"2. Subtraction (-)\")\n",
    "print(\"3. Multiplication (*)\")\n",
    "print(\"4. Division (/)\")\n",
    "\n",
    "choice = input(\"Enter your choice (1/2/3/4): \")\n",
    "\n",
    "if choice == '1':\n",
    "    result = num1 + num2\n",
    "    print(\"Result:\", result)\n",
    "\n",
    "elif choice == '2':\n",
    "    result = num1 - num2\n",
    "    print(\"Result:\", result)\n",
    "\n",
    "elif choice == '3':\n",
    "    result = num1 * num2\n",
    "    print(\"Result:\", result)\n",
    "\n",
    "elif choice == '4':\n",
    "    if num2 != 0:\n",
    "        result = num1 / num2\n",
    "        print(\"Result:\", result)\n",
    "    else:\n",
    "        print(\"Error: Cannot divide by zero!\")\n",
    "\n",
    "else:\n",
    "    print(\"Invalid choice. Please enter 1, 2, 3, or 4.\")"
   ]
  },
  {
   "cell_type": "code",
   "execution_count": null,
   "id": "7513edcb",
   "metadata": {},
   "outputs": [],
   "source": []
  }
 ],
 "metadata": {
  "kernelspec": {
   "display_name": "Python 3",
   "language": "python",
   "name": "python3"
  },
  "language_info": {
   "codemirror_mode": {
    "name": "ipython",
    "version": 3
   },
   "file_extension": ".py",
   "mimetype": "text/x-python",
   "name": "python",
   "nbconvert_exporter": "python",
   "pygments_lexer": "ipython3",
   "version": "3.13.5"
  }
 },
 "nbformat": 4,
 "nbformat_minor": 5
}
